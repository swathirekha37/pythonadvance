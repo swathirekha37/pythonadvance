{
 "cells": [
  {
   "cell_type": "code",
   "execution_count": 1,
   "metadata": {},
   "outputs": [
    {
     "data": {
      "text/plain": [
       "{'name': 'python', 'version': '3.7.0'}"
      ]
     },
     "execution_count": 1,
     "metadata": {},
     "output_type": "execute_result"
    }
   ],
   "source": [
    "#dictionaries: unordered.\n",
    "#In dictionaries we cannnot use slice methods as they are unordered.\n",
    "course={\"name\":\"python\",\"version\":\"3.7.0\"}\n",
    "course"
   ]
  },
  {
   "cell_type": "code",
   "execution_count": 2,
   "metadata": {},
   "outputs": [
    {
     "data": {
      "text/plain": [
       "{'name': 'swathi', 'age': 23, 'degree': 'B.tech'}"
      ]
     },
     "execution_count": 2,
     "metadata": {},
     "output_type": "execute_result"
    }
   ],
   "source": [
    "details=dict([[\"name\",\"swathi\"],[\"age\",23],[\"degree\",\"B.tech\"]])\n",
    "details"
   ]
  },
  {
   "cell_type": "code",
   "execution_count": 3,
   "metadata": {},
   "outputs": [
    {
     "data": {
      "text/plain": [
       "{'name': 'python', 'version': '3.7.0', 'difficulty': 'easy'}"
      ]
     },
     "execution_count": 3,
     "metadata": {},
     "output_type": "execute_result"
    }
   ],
   "source": [
    "course={\"name\":\"python\",\"version\":\"3.7.0\",\"difficulty\":\"easy\"}\n",
    "course"
   ]
  },
  {
   "cell_type": "code",
   "execution_count": 4,
   "metadata": {},
   "outputs": [
    {
     "data": {
      "text/plain": [
       "{'name': 'python', 'version': '3.6.8', 'difficulty': 'easy'}"
      ]
     },
     "execution_count": 4,
     "metadata": {},
     "output_type": "execute_result"
    }
   ],
   "source": [
    "course['version']='3.6.8'\n",
    "course"
   ]
  },
  {
   "cell_type": "code",
   "execution_count": 5,
   "metadata": {},
   "outputs": [
    {
     "data": {
      "text/plain": [
       "{'name': 'python',\n",
       " 'version': '3.6.8',\n",
       " 'difficulty': 'easy',\n",
       " 'secondnamse': 'pythonadvanced'}"
      ]
     },
     "execution_count": 5,
     "metadata": {},
     "output_type": "execute_result"
    }
   ],
   "source": [
    "course['secondnamse']='pythonadvanced'\n",
    "course"
   ]
  },
  {
   "cell_type": "code",
   "execution_count": 7,
   "metadata": {},
   "outputs": [
    {
     "data": {
      "text/plain": [
       "{'name': 'python',\n",
       " 'version': '3.6.8',\n",
       " 'difficulty': 'easy',\n",
       " 'secondnamse': 'pythonadvanced',\n",
       " 'job': 'teacher',\n",
       " 'editer': 'udemy'}"
      ]
     },
     "execution_count": 7,
     "metadata": {},
     "output_type": "execute_result"
    }
   ],
   "source": [
    "course.update({\"job\":\"teacher\",\"editer\":'udemy'})#for multiple items use update\n",
    "course   "
   ]
  },
  {
   "cell_type": "code",
   "execution_count": 8,
   "metadata": {},
   "outputs": [],
   "source": [
    "del course['secondnamse']"
   ]
  },
  {
   "cell_type": "code",
   "execution_count": 9,
   "metadata": {},
   "outputs": [
    {
     "data": {
      "text/plain": [
       "{'name': 'python',\n",
       " 'version': '3.6.8',\n",
       " 'difficulty': 'easy',\n",
       " 'job': 'teacher',\n",
       " 'editer': 'udemy'}"
      ]
     },
     "execution_count": 9,
     "metadata": {},
     "output_type": "execute_result"
    }
   ],
   "source": [
    "course"
   ]
  },
  {
   "cell_type": "code",
   "execution_count": 14,
   "metadata": {},
   "outputs": [
    {
     "name": "stdout",
     "output_type": "stream",
     "text": [
      "name\n",
      "version\n",
      "difficulty\n",
      "job\n",
      "editer\n"
     ]
    }
   ],
   "source": [
    "#packing\n",
    "#useing loops\n",
    "for i in course:\n",
    "    print(i)"
   ]
  },
  {
   "cell_type": "code",
   "execution_count": 17,
   "metadata": {},
   "outputs": [
    {
     "name": "stdout",
     "output_type": "stream",
     "text": [
      "python\n",
      "3.6.8\n",
      "easy\n",
      "teacher\n",
      "udemy\n"
     ]
    }
   ],
   "source": [
    "for i in course:\n",
    "    print(course[i])"
   ]
  },
  {
   "cell_type": "code",
   "execution_count": 18,
   "metadata": {},
   "outputs": [
    {
     "name": "stdout",
     "output_type": "stream",
     "text": [
      "name\n",
      "version\n",
      "difficulty\n",
      "job\n",
      "editer\n"
     ]
    }
   ],
   "source": [
    "#othermethod\n",
    "for i in course.keys():\n",
    "    print(i)"
   ]
  },
  {
   "cell_type": "code",
   "execution_count": 19,
   "metadata": {},
   "outputs": [
    {
     "name": "stdout",
     "output_type": "stream",
     "text": [
      "python\n",
      "3.6.8\n",
      "easy\n",
      "teacher\n",
      "udemy\n"
     ]
    }
   ],
   "source": [
    "for i in course.values():\n",
    "    print(i)"
   ]
  },
  {
   "cell_type": "code",
   "execution_count": 20,
   "metadata": {},
   "outputs": [
    {
     "name": "stdout",
     "output_type": "stream",
     "text": [
      "('name', 'python')\n",
      "('version', '3.6.8')\n",
      "('difficulty', 'easy')\n",
      "('job', 'teacher')\n",
      "('editer', 'udemy')\n"
     ]
    }
   ],
   "source": [
    "for i in course.items(): #keyvalue\n",
    "    print(i)"
   ]
  },
  {
   "cell_type": "code",
   "execution_count": 23,
   "metadata": {},
   "outputs": [
    {
     "name": "stdout",
     "output_type": "stream",
     "text": [
      "{'name': 'swathi', 'age': '34', 'gender': 'lady'}\n"
     ]
    }
   ],
   "source": [
    "#packing and unpacking (expanding and compressing). That means adding vars and removing vars\n",
    "#This are mainly used in fucntions\n",
    "def packer(**kwargs):\n",
    "    print(kwargs)\n",
    "    \n",
    "packer(name='swathi',age='34',gender='lady')"
   ]
  },
  {
   "cell_type": "code",
   "execution_count": 24,
   "metadata": {},
   "outputs": [
    {
     "name": "stdout",
     "output_type": "stream",
     "text": [
      "{'age': '34', 'gender': 'lady'}\n"
     ]
    }
   ],
   "source": [
    "def packer(name=None,**kwargs): \n",
    "    print(kwargs) #it prints only kwargs\n",
    "    \n",
    "packer(name='swathi',age='34',gender='lady')"
   ]
  },
  {
   "cell_type": "code",
   "execution_count": 30,
   "metadata": {},
   "outputs": [
    {
     "name": "stdout",
     "output_type": "stream",
     "text": [
      "hi rekha swathi\n"
     ]
    }
   ],
   "source": [
    "def unpacker(fname=None,sname=None): \n",
    "    if fname and sname:\n",
    "        print(\"hi {} {}\".format(fname,sname))\n",
    "    else:\n",
    "        print(\"there is no name\")\n",
    "        \n",
    "unpacker(sname='swathi',fname='rekha')"
   ]
  },
  {
   "cell_type": "code",
   "execution_count": 37,
   "metadata": {},
   "outputs": [
    {
     "name": "stdout",
     "output_type": "stream",
     "text": [
      "hi rekha swathi\n"
     ]
    }
   ],
   "source": [
    "def unpacker(fname=None,sname=None): \n",
    "    if fname and sname:\n",
    "        print(\"hi {} {}\".format(fname,sname))\n",
    "    else:\n",
    "        print(\"there is no name\")\n",
    "        \n",
    "unpacker(**{'sname':'swathi','fname':'rekha'}) #kwarg using dict"
   ]
  },
  {
   "cell_type": "code",
   "execution_count": null,
   "metadata": {},
   "outputs": [],
   "source": []
  },
  {
   "cell_type": "code",
   "execution_count": null,
   "metadata": {},
   "outputs": [],
   "source": []
  },
  {
   "cell_type": "code",
   "execution_count": null,
   "metadata": {},
   "outputs": [],
   "source": []
  },
  {
   "cell_type": "code",
   "execution_count": null,
   "metadata": {},
   "outputs": [],
   "source": []
  },
  {
   "cell_type": "code",
   "execution_count": null,
   "metadata": {},
   "outputs": [],
   "source": []
  },
  {
   "cell_type": "code",
   "execution_count": null,
   "metadata": {},
   "outputs": [],
   "source": []
  },
  {
   "cell_type": "code",
   "execution_count": null,
   "metadata": {},
   "outputs": [],
   "source": []
  },
  {
   "cell_type": "code",
   "execution_count": null,
   "metadata": {},
   "outputs": [],
   "source": []
  },
  {
   "cell_type": "code",
   "execution_count": null,
   "metadata": {},
   "outputs": [],
   "source": []
  },
  {
   "cell_type": "code",
   "execution_count": null,
   "metadata": {},
   "outputs": [],
   "source": []
  }
 ],
 "metadata": {
  "kernelspec": {
   "display_name": "Python 3",
   "language": "python",
   "name": "python3"
  },
  "language_info": {
   "codemirror_mode": {
    "name": "ipython",
    "version": 3
   },
   "file_extension": ".py",
   "mimetype": "text/x-python",
   "name": "python",
   "nbconvert_exporter": "python",
   "pygments_lexer": "ipython3",
   "version": "3.7.3"
  }
 },
 "nbformat": 4,
 "nbformat_minor": 2
}
